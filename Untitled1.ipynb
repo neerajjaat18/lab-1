{
  "nbformat": 4,
  "nbformat_minor": 0,
  "metadata": {
    "colab": {
      "provenance": [],
      "authorship_tag": "ABX9TyMfq/XLhle2Oqexgorf9MCD",
      "include_colab_link": true
    },
    "kernelspec": {
      "name": "python3",
      "display_name": "Python 3"
    },
    "language_info": {
      "name": "python"
    }
  },
  "cells": [
    {
      "cell_type": "markdown",
      "metadata": {
        "id": "view-in-github",
        "colab_type": "text"
      },
      "source": [
        "<a href=\"https://colab.research.google.com/github/neerajjaat18/lab-1/blob/main/Untitled1.ipynb\" target=\"_parent\"><img src=\"https://colab.research.google.com/assets/colab-badge.svg\" alt=\"Open In Colab\"/></a>"
      ]
    },
    {
      "cell_type": "code",
      "source": [
        "import pandas as pd\n",
        "\n",
        "# Create a sample dataset\n",
        "data = {\n",
        "    'Destination': ['Paris', 'Rome', 'Paris', 'New York', 'Rome', 'Tokyo'],\n",
        "    'Total Cost': [1000, 800, 1200, 1500, 900, 1800]\n",
        "}\n",
        "\n",
        "df = pd.DataFrame(data)\n",
        "\n",
        "# Calculate average total cost by destination\n",
        "average_cost_by_destination = df.groupby('Destination')['Total Cost'].mean()\n",
        "\n",
        "print(average_cost_by_destination)"
      ],
      "metadata": {
        "colab": {
          "base_uri": "https://localhost:8080/"
        },
        "id": "5GgGHCM4LLCs",
        "outputId": "3fe694a7-3a59-4cb0-de57-77e482a9c194"
      },
      "execution_count": null,
      "outputs": [
        {
          "output_type": "stream",
          "name": "stdout",
          "text": [
            "Destination\n",
            "New York    1500.0\n",
            "Paris       1100.0\n",
            "Rome         850.0\n",
            "Tokyo       1800.0\n",
            "Name: Total Cost, dtype: float64\n"
          ]
        }
      ]
    },
    {
      "cell_type": "code",
      "source": [
        "import pandas as pd\n",
        "\n",
        "# Create a sample dataset\n",
        "data = {\n",
        "    'Start Date': ['2022-01-01', '2022-02-01', '2022-03-01', '2022-04-01', '2022-05-01', '2022-06-01'],\n",
        "    'End Date': ['2022-01-08', '2022-02-08', '2022-03-08', '2022-04-08', '2022-05-08', '2022-06-08']\n",
        "}\n",
        "\n",
        "df = pd.DataFrame(data)\n",
        "\n",
        "# Convert dates to datetime format\n",
        "df['Start Date'] = pd.to_datetime(df['Start Date'])\n",
        "df['End Date'] = pd.to_datetime(df['End Date'])\n",
        "\n",
        "# Calculate range of travel dates\n",
        "min_start_date = df['Start Date'].min()\n",
        "max_end_date = df['End Date'].max()\n",
        "\n",
        "print(f\"Range of travel dates: {min_start_date} to {max_end_date}\")"
      ],
      "metadata": {
        "colab": {
          "base_uri": "https://localhost:8080/"
        },
        "id": "l6c4LRxXLgAb",
        "outputId": "bcb6a2ab-61dd-442d-c807-350a5a0c34e2"
      },
      "execution_count": null,
      "outputs": [
        {
          "output_type": "stream",
          "name": "stdout",
          "text": [
            "Range of travel dates: 2022-01-01 00:00:00 to 2022-06-08 00:00:00\n"
          ]
        }
      ]
    },
    {
      "cell_type": "code",
      "source": [
        "import pandas as pd\n",
        "\n",
        "# Create a sample dataset\n",
        "data = {\n",
        "    'Start Date': ['2022-01-01', '2022-02-01', '2022-03-01', '2022-04-01', '2022-05-01', '2022-06-01'],\n",
        "    'End Date': ['2022-01-08', '2022-02-08', '2022-03-08', '2022-04-08', '2022-05-08', '2022-06-08']\n",
        "}\n",
        "\n",
        "df = pd.DataFrame(data)\n",
        "\n",
        "# Convert dates to datetime format\n",
        "df['Start Date'] = pd.to_datetime(df['Start Date'])\n",
        "df['End Date'] = pd.to_datetime(df['End Date'])\n",
        "\n",
        "# Extract month from start date\n",
        "df['Month'] = df['Start Date'].dt.month\n",
        "\n",
        "# Calculate most common travel period\n",
        "most_common_travel_period = df['Month'].mode()[0]\n",
        "\n",
        "print(f\"Most common travel period: {most_common_travel_period}\")"
      ],
      "metadata": {
        "colab": {
          "base_uri": "https://localhost:8080/"
        },
        "id": "1eArJiLlLlzL",
        "outputId": "e2ffb726-9899-467e-9700-1fa59acab5a6"
      },
      "execution_count": null,
      "outputs": [
        {
          "output_type": "stream",
          "name": "stdout",
          "text": [
            "Most common travel period: 1\n"
          ]
        }
      ]
    },
    {
      "cell_type": "code",
      "source": [
        "import pandas as pd\n",
        "\n",
        "# Create a sample dataset\n",
        "data = {\n",
        "    'Destination': ['Paris', 'Rome', 'Paris', 'New York', 'Rome', 'Tokyo']\n",
        "}\n",
        "\n",
        "df = pd.DataFrame(data)\n",
        "\n",
        "# Calculate number of unique destinations\n",
        "unique_destinations = df['Destination'].nunique()\n",
        "\n",
        "print(f\"Number of unique destinations: {unique_destinations}\")"
      ],
      "metadata": {
        "colab": {
          "base_uri": "https://localhost:8080/"
        },
        "id": "41rFrn1iLnjr",
        "outputId": "0d9115ad-71ec-4c74-d08f-507d8b11d681"
      },
      "execution_count": null,
      "outputs": [
        {
          "output_type": "stream",
          "name": "stdout",
          "text": [
            "Number of unique destinations: 4\n"
          ]
        }
      ]
    },
    {
      "cell_type": "code",
      "source": [
        "import pandas as pd\n",
        "\n",
        "# Create a sample dataset\n",
        "data = {\n",
        "    'Start Date': ['2022-01-01', '2022-02-01', '2022-03-01', '2022-04-01', '2022-05-01', '2022-06-01'],\n",
        "    'End Date': ['2022-01-08', '2022-02-08', '2022-03-08', '2022-04-08', '2022-05-08', '2022-06-08']\n",
        "}\n",
        "\n",
        "df = pd.DataFrame(data)\n",
        "\n",
        "# Convert dates to datetime format\n",
        "df['Start Date'] = pd.to_datetime(df['Start Date'])\n",
        "df['End Date'] = pd.to_datetime(df['End Date'])\n",
        "\n",
        "# Define specific range\n",
        "start_year = 2022\n",
        "end_year = 2022\n",
        "\n",
        "# Check if all dates fall within specific range\n",
        "dates_within_range = (df['Start Date'].dt.year >= start_year) & (df['End Date'].dt.year <= end_year)\n",
        "\n",
        "if dates_within_range.all():\n",
        "    print(\"All dates fall within the specified range.\")\n",
        "else:\n",
        "    print(\"Not all dates fall within the specified range.\")"
      ],
      "metadata": {
        "colab": {
          "base_uri": "https://localhost:8080/"
        },
        "id": "9Js68Fi2LwLz",
        "outputId": "73ad3eaf-348b-409b-82a8-ebb69d49aff0"
      },
      "execution_count": null,
      "outputs": [
        {
          "output_type": "stream",
          "name": "stdout",
          "text": [
            "All dates fall within the specified range.\n"
          ]
        }
      ]
    }
  ]
}